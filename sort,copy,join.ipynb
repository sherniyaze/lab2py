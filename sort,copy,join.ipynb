{
 "cells": [
  {
   "cell_type": "code",
   "execution_count": 1,
   "metadata": {},
   "outputs": [
    {
     "name": "stdout",
     "output_type": "stream",
     "text": [
      "['apple', 'banana', 'cherry', 'dragonfruit']\n",
      "[5, 10, 15, 20, 30, 45]\n",
      "[45, 30, 20, 15, 10, 5]\n",
      "['dragonfruit', 'cherry', 'banana', 'apple']\n",
      "[45, 60, 35, 30, 75, 20, 15, 10, 90, 5, 100]\n",
      "[30, 35, 20, 15, 45, 10, 90, 5, 100, 60, 75]\n",
      "['BANANA', 'Kiwi', 'Orange', 'banana', 'cherry']\n",
      "['BANANA', 'ORANGE', 'Orange', 'banana', 'cherry']\n",
      "['BANANA', 'banana', 'cherry', 'ORANGE', 'Orange']\n",
      "['cherry', 'Kiwi', 'Orange', 'banana']\n"
     ]
    }
   ],
   "source": [
    "fruitslist = [\"dragonfruit\", \"banana\", \"apple\", \"cherry\"]\n",
    "fruitslist.sort()\n",
    "print(fruitslist)\n",
    "\n",
    "numbers = [10, 20, 5, 30, 15, 45]\n",
    "numbers.sort()\n",
    "print(numbers)\n",
    "\n",
    "numbers.sort(reverse = True)\n",
    "print(numbers)\n",
    "\n",
    "fruitslist.sort(reverse = True)\n",
    "print(fruitslist)\n",
    "\n",
    "\n",
    "newnumbers = [100, 35, 60, 75, 90]\n",
    "numbers.extend(newnumbers)\n",
    "# print(numbers)\n",
    "# numbers.sort()\n",
    "# print(numbers)\n",
    "\n",
    "\n",
    "def myfunction(n):\n",
    "    return abs(n-50)\n",
    "\n",
    "numbers.sort(key = myfunction)\n",
    "print(numbers)\n",
    "\n",
    "\n",
    "def myinterestingfunc(n):\n",
    "    if n > 75 or n < 25:\n",
    "        return abs(50 - n)\n",
    "    else:\n",
    "        return abs(50 - n*2)\n",
    "\n",
    "numbers.sort(key=myinterestingfunc)\n",
    "print(numbers)\n",
    "\n",
    "#now check to case sensitivity\n",
    "\n",
    "theirlist = [\"banana\", \"Orange\", \"Kiwi\", \"cherry\", \"BANANA\"]\n",
    "theirlist.sort()\n",
    "print(theirlist)\n",
    "\n",
    "#in first situation BANANA Kiwi and after\n",
    "#  that was Orange\n",
    "\n",
    "theirlist[1] = \"ORANGE\"\n",
    "theirlist.sort()\n",
    "print(theirlist)\n",
    "\n",
    "#now it is changed because of rewriting \n",
    "# Orange as ORANGE\n",
    "\n",
    "# ['BANANA', 'Kiwi', 'Orange', 'banana', 'cherry']        \n",
    "# ['BANANA', 'ORANGE', 'Orange', 'banana', 'cherry']  \n",
    "\n",
    "theirlist.sort(key=str.lower)\n",
    "print(theirlist) \n",
    "\n",
    "# no matter upper or lower, it will sort alphabetically\n",
    "\n",
    "thislist = [\"banana\", \"Orange\", \"Kiwi\", \"cherry\"]\n",
    "thislist.reverse()\n",
    "print(thislist)\n",
    "\n",
    "    "
   ]
  }
 ],
 "metadata": {
  "kernelspec": {
   "display_name": "Python 3",
   "language": "python",
   "name": "python3"
  },
  "language_info": {
   "codemirror_mode": {
    "name": "ipython",
    "version": 3
   },
   "file_extension": ".py",
   "mimetype": "text/x-python",
   "name": "python",
   "nbconvert_exporter": "python",
   "pygments_lexer": "ipython3",
   "version": "3.12.8"
  }
 },
 "nbformat": 4,
 "nbformat_minor": 2
}
