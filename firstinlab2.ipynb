{
 "cells": [
  {
   "cell_type": "code",
   "execution_count": 3,
   "metadata": {},
   "outputs": [
    {
     "name": "stdout",
     "output_type": "stream",
     "text": [
      "['apple', 'cherry', 'banana', 'lemon', 'orange']\n",
      "5\n",
      "7\n",
      "['apple', 'juice', 'so_delicious']\n",
      "['pinapple', 'pen', 'pineapplepen', 'applepen']\n",
      "['pinapple', 'pen', 'pineapplepen', 'applepen', 'pineapplepenapplepen']\n"
     ]
    }
   ],
   "source": [
    "myListie = [\"apple\", \"cherry\", \"banana\", \"lemon\", \"orange\"]\n",
    "print(myListie)\n",
    "print(len(myListie))\n",
    "difflist = [11, 718, \"Wowowow\", False, -273.15, 75 - 2j, \"bread\"]\n",
    "print(len(difflist))\n",
    "thisnewlist = list([\"apple\", \"juice\", \"so_delicious\"])\n",
    "print(thisnewlist)\n",
    "those_his_new_list = list((\"pinapple\", \"pen\", \"pineapplepen\", \"applepen\"))\n",
    "print(those_his_new_list)\n",
    "those_his_new_list.append(\"pineapplepenapplepen\")\n",
    "print(those_his_new_list)"
   ]
  },
  {
   "cell_type": "code",
   "execution_count": 2,
   "metadata": {},
   "outputs": [
    {
     "name": "stdout",
     "output_type": "stream",
     "text": [
      "True\n",
      "False\n",
      "False\n",
      "b is not greater than a\n",
      "True\n",
      "False\n",
      "True\n",
      "True\n",
      "True\n",
      "False\n",
      "False\n",
      "False\n",
      "False\n",
      "False\n",
      "YES!\n",
      "True\n",
      "False\n",
      "False\n"
     ]
    }
   ],
   "source": [
    "print(10>9)\n",
    "print(10== 9)\n",
    "print(10<9)\n",
    "a = 200\n",
    "b = 33\n",
    "if b > a:\n",
    "    print(\"b is greater than a\")\n",
    "else: \n",
    "    print(\"b is not greater than a\")\n",
    "#any string is true except emtpy strings\n",
    "#any number is true except 0\n",
    "#any list, tuple, set, and dictionary are true except emtpy ones\n",
    "print(bool(\"Hello\"))\n",
    "print(bool(0))\n",
    "print(bool(1j))\n",
    "print(bool(-5))\n",
    "print(bool(\"abc\"))\n",
    "bool([\"apple\", \"cherry\", \"banana\"])\n",
    "print(bool(False))\n",
    "print(bool(None))\n",
    "print(bool())\n",
    "print(bool([]))\n",
    "\n",
    "class myclass():\n",
    "    def __len__(self):\n",
    "        return 0\n",
    "    \n",
    "myobj = myclass()\n",
    "print(bool(myobj))\n",
    "\n",
    "def myFunction():\n",
    "    return True\n",
    "\n",
    "if myFunction():\n",
    "    print(\"YES!\")\n",
    "else:\n",
    "    print(\"NO!\")\n",
    "\n",
    "x = 13135\n",
    "print(isinstance(x, int))\n",
    "print(isinstance(x, str))\n",
    "print(isinstance(x, set))"
   ]
  },
  {
   "cell_type": "code",
   "execution_count": 5,
   "metadata": {},
   "outputs": [
    {
     "name": "stdout",
     "output_type": "stream",
     "text": [
      "pen\n",
      "banana\n",
      "['banana', 'lemon']\n",
      "['apple', 'cherry', 'banana']\n",
      "['banana', 'lemon', 'orange']\n",
      "['apple', 'cherry', 'banana', 'lemon']\n",
      "Oh, YES! There is some orange in my listie\n",
      "['blueberry', 'mango', 'banana', 'lemon', 'orange']\n",
      "['apple', 'cherry', 'banana', 'lemon', 'orange']\n",
      "['apple', 'cherry', 'banana', 'blackcurrant', 'grape', 'lime', 'orange']\n",
      "['apple', 'big_pineapple', 'lime', 'orange']\n",
      "['apple', 'big_pineapple', 'lime', 'big_watermelon', 'melon', 'orange']\n",
      "['apple', 'banana', 'cherry', 'orange']\n",
      "['apple', 'banana', 'cherry', 'orange', 'mango', 'pineapple', 'papaya']\n",
      "['apple', 'banana', 'cherry', 'orange', 'mango', 'pineapple', 'papaya', 'grapefruit', 'avocado', 'coconut']\n"
     ]
    }
   ],
   "source": [
    "myListie = [\"apple\", \"cherry\", \"banana\", \"lemon\", \"orange\"]\n",
    "those_his_new_list = list((\"pinapple\", \"pen\", \"pineapplepen\", \"applepen\"))\n",
    "print(those_his_new_list[1])\n",
    "print(myListie[-3])\n",
    "print(myListie[2:4])\n",
    "print(myListie[:3])\n",
    "print(myListie[2:])\n",
    "print(myListie[-5:-1])\n",
    "if \"orange\" in myListie:\n",
    "    print(\"Oh, YES! There is some orange in my listie\")\n",
    "\n",
    "myListie[0] = \"blueberry\"\n",
    "myListie[1] = \"mango\"\n",
    "\n",
    "print(myListie)\n",
    "\n",
    "myListie[0:2] = [\"apple\", \"cherry\"]\n",
    "# if there is my listie again like it was doesn't changed\n",
    "print(myListie)\n",
    "myListie[3:4] = [\"blackcurrant\", \"grape\", \"lime\"]\n",
    "print(myListie)\n",
    "myListie[1:5] = [\"big_pineapple\"]\n",
    "print(myListie)\n",
    "myListie.insert(3, \"big_watermelon\")\n",
    "myListie.insert(-1, \"melon\")\n",
    "print(myListie)\n",
    "\n",
    "\n",
    "##########################################################\n",
    "\n",
    "fruits = [\"apple\", \"banana\"]\n",
    "fruits.append(\"orange\")\n",
    "fruits.insert(-1, \"cherry\")\n",
    "print(fruits)\n",
    "tropicals = [\"mango\", \"pineapple\", \"papaya\"]\n",
    "fruits.extend(tropicals)\n",
    "print(fruits)\n",
    "#you can also add any iterable object (tuples, sets, dictionaries etc.)\n",
    "newfr = (\"grapefruit\", \"avocado\", \"coconut\")\n",
    "fruits.extend(newfr)\n",
    "print(fruits)\n"
   ]
  },
  {
   "cell_type": "code",
   "execution_count": null,
   "metadata": {},
   "outputs": [],
   "source": [
    "\n"
   ]
  }
 ],
 "metadata": {
  "kernelspec": {
   "display_name": "Python 3",
   "language": "python",
   "name": "python3"
  },
  "language_info": {
   "codemirror_mode": {
    "name": "ipython",
    "version": 3
   },
   "file_extension": ".py",
   "mimetype": "text/x-python",
   "name": "python",
   "nbconvert_exporter": "python",
   "pygments_lexer": "ipython3",
   "version": "3.12.8"
  }
 },
 "nbformat": 4,
 "nbformat_minor": 2
}
