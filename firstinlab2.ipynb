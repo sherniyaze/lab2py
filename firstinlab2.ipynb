{
 "cells": [
  {
   "cell_type": "code",
   "execution_count": 3,
   "metadata": {},
   "outputs": [
    {
     "name": "stdout",
     "output_type": "stream",
     "text": [
      "['apple', 'cherry', 'banana', 'lemon', 'orange']\n",
      "5\n",
      "7\n",
      "['apple', 'juice', 'so_delicious']\n",
      "['pinapple', 'pen', 'pineapplepen', 'applepen']\n",
      "['pinapple', 'pen', 'pineapplepen', 'applepen', 'pineapplepenapplepen']\n"
     ]
    }
   ],
   "source": [
    "myListie = [\"apple\", \"cherry\", \"banana\", \"lemon\", \"orange\"]\n",
    "print(myListie)\n",
    "print(len(myListie))\n",
    "difflist = [11, 718, \"Wowowow\", False, -273.15, 75 - 2j, \"bread\"]\n",
    "print(len(difflist))\n",
    "thisnewlist = list([\"apple\", \"juice\", \"so_delicious\"])\n",
    "print(thisnewlist)\n",
    "those_his_new_list = list((\"pinapple\", \"pen\", \"pineapplepen\", \"applepen\"))\n",
    "print(those_his_new_list)\n",
    "those_his_new_list.append(\"pineapplepenapplepen\")\n",
    "print(those_his_new_list)"
   ]
  },
  {
   "cell_type": "code",
   "execution_count": null,
   "metadata": {},
   "outputs": [],
   "source": []
  }
 ],
 "metadata": {
  "kernelspec": {
   "display_name": "Python 3",
   "language": "python",
   "name": "python3"
  },
  "language_info": {
   "codemirror_mode": {
    "name": "ipython",
    "version": 3
   },
   "file_extension": ".py",
   "mimetype": "text/x-python",
   "name": "python",
   "nbconvert_exporter": "python",
   "pygments_lexer": "ipython3",
   "version": "3.12.8"
  }
 },
 "nbformat": 4,
 "nbformat_minor": 2
}
