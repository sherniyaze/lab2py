{
 "cells": [
  {
   "cell_type": "code",
   "execution_count": 1,
   "metadata": {},
   "outputs": [
    {
     "name": "stdout",
     "output_type": "stream",
     "text": [
      "['apple', 'orange', 'cherry', 'orange']\n",
      "['apple', 'banana', 'cherry', ['Ford', 'BMW', 'Volvo']]\n",
      "[]\n",
      "[]\n",
      "1\n",
      "2\n",
      "['apple', 'banana', 'cherry', 'Ford', 'BMW', 'Volvo']\n",
      "2\n"
     ]
    }
   ],
   "source": [
    "fruits = ['apple','orange','cherry']\n",
    "fruits.append(\"orange\")\n",
    "print(fruits)\n",
    "\n",
    "a = [\"apple\",\"banana\",\"cherry\"]\n",
    "b = [\"Ford\", \"BMW\", \"Volvo\"]\n",
    "a.append(b)\n",
    "print(a)\n",
    "\n",
    "fruits = ['apple','banana','cherry','orange']\n",
    "fruits.clear()\n",
    "print(fruits)\n",
    "\n",
    "x = fruits.copy()\n",
    "print(x)\n",
    "\n",
    "fruits = ['apple','banana','cherry']\n",
    "x = fruits.count(\"cherry\")\n",
    "print(x)\n",
    "\n",
    "points = [1, 4, 2, 9, 7, 8, 9, 3, 1]\n",
    "x = points.count(9)\n",
    "\n",
    "print(x)\n",
    "\n",
    "cars = ['Ford','BMW','Volvo']\n",
    "\n",
    "fruits.extend(cars)\n",
    "\n",
    "print(fruits)\n",
    "\n",
    "x = fruits.index(\"cherry\")\n",
    "print(x)"
   ]
  },
  {
   "cell_type": "code",
   "execution_count": 2,
   "metadata": {},
   "outputs": [
    {
     "name": "stdout",
     "output_type": "stream",
     "text": [
      "3\n",
      "['apple', 'orange', 'cherry']\n",
      "cherry\n",
      "['apple', 'cherry']\n",
      "['cherry', 'banana', 'apple']\n",
      "['BMW', 'Ford', 'Volvo']\n",
      "['Volvo', 'Ford', 'BMW']\n",
      "['VW', 'BMW', 'Ford', 'Mitsubishi']\n"
     ]
    }
   ],
   "source": [
    "fruits = [4, 55, 64, 32, 16, 32]\n",
    "x = fruits.index(32)\n",
    "print(x)\n",
    "\n",
    "fruits = ['apple', 'banana', 'cherry']\n",
    "fruits.insert(1, \"orange\")\n",
    "\n",
    "fruits.pop(2)\n",
    "print(fruits)\n",
    "x = fruits.pop(2)\n",
    "print(x)\n",
    "\n",
    "fruits = ['apple', 'banana', 'cherry']\n",
    "fruits.remove(\"banana\")\n",
    "print(fruits)\n",
    "\n",
    "fruits = ['apple','banana','cherry']\n",
    "fruits.reverse()\n",
    "print(fruits)\n",
    "\n",
    "cars = ['Ford', 'BMW', 'Volvo']\n",
    "cars.sort()\n",
    "print(cars)\n",
    "cars.sort(reverse=True)\n",
    "print(cars)\n",
    "\n",
    "def myFunc(e):\n",
    "    return len(e)\n",
    "\n",
    "cars = ['Ford','Mitsubishi','BMW','VW']\n",
    "\n",
    "cars.sort(key=myFunc)\n",
    "print(cars)"
   ]
  }
 ],
 "metadata": {
  "kernelspec": {
   "display_name": "Python 3",
   "language": "python",
   "name": "python3"
  },
  "language_info": {
   "codemirror_mode": {
    "name": "ipython",
    "version": 3
   },
   "file_extension": ".py",
   "mimetype": "text/x-python",
   "name": "python",
   "nbconvert_exporter": "python",
   "pygments_lexer": "ipython3",
   "version": "3.12.8"
  }
 },
 "nbformat": 4,
 "nbformat_minor": 2
}
