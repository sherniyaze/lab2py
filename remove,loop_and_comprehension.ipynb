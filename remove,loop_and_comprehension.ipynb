{
 "cells": [
  {
   "cell_type": "code",
   "execution_count": 1,
   "metadata": {},
   "outputs": [
    {
     "name": "stdout",
     "output_type": "stream",
     "text": [
      "['apple', 'cherry']\n",
      "['banana', 'apple', 'cherry', 'coconut', 'banana']\n",
      "['apple', 'cherry', 'coconut', 'banana']\n",
      "['apple', 'coconut', 'banana']\n"
     ]
    }
   ],
   "source": [
    "ohyesmynewlist = [\"apple\", \"banana\", \"cherry\"]\n",
    "ohyesmynewlist.remove(\"banana\")\n",
    "print(ohyesmynewlist)\n",
    "\n",
    "ohyesmynewlist.append(\"coconut\")\n",
    "ohyesmynewlist.insert(0,\"banana\")\n",
    "ohyesmynewlist.append(\"banana\")\n",
    "print(ohyesmynewlist)\n",
    "\n",
    "ohyesmynewlist.remove(\"banana\")\n",
    "print(ohyesmynewlist)\n",
    "\n",
    "ohyesmynewlist.pop(1)\n",
    "print(ohyesmynewlist)"
   ]
  },
  {
   "cell_type": "code",
   "execution_count": 2,
   "metadata": {},
   "outputs": [
    {
     "name": "stdout",
     "output_type": "stream",
     "text": [
      "['apple', 'cherry']\n",
      "['banana', 'apple', 'cherry', 'coconut', 'banana']\n",
      "['apple', 'cherry', 'coconut', 'banana']\n",
      "['apple', 'coconut', 'banana']\n",
      "['apple', 'coconut', 'CHECK', 'banana']\n",
      "['apple', 'coconut', 'CHECK']\n",
      "['cobalt', 'bmw', 'audi', 'aston martin']\n",
      "['cobalt', 'bmw', 'audi', 'aston martin', 'porsche']\n",
      "['cobalt', 'bmw', 'audi', 'aston martin']\n"
     ]
    }
   ],
   "source": [
    "ohyesmynewlist = [\"apple\", \"banana\", \"cherry\"]\n",
    "ohyesmynewlist.remove(\"banana\")\n",
    "print(ohyesmynewlist)\n",
    "\n",
    "ohyesmynewlist.append(\"coconut\")\n",
    "ohyesmynewlist.insert(0,\"banana\")\n",
    "ohyesmynewlist.append(\"banana\")\n",
    "print(ohyesmynewlist)\n",
    "\n",
    "ohyesmynewlist.remove(\"banana\")\n",
    "print(ohyesmynewlist)\n",
    "\n",
    "ohyesmynewlist.pop(1)\n",
    "print(ohyesmynewlist)\n",
    "\n",
    "\n",
    "\n",
    "### now check this \n",
    "### inserted before our last element (-1) aka \"banana\" \n",
    "### or this new element is our new pre-last element\n",
    "### but when we pop in index (-1) we pop not a CHECK\n",
    "### we pop our last element \"banana\"\n",
    "\n",
    "ohyesmynewlist.insert(-1, \"CHECK\")\n",
    "print(ohyesmynewlist)\n",
    "\n",
    "ohyesmynewlist.pop(-1)\n",
    "print(ohyesmynewlist)\n",
    "\n",
    "CHECKERLIST = [\"cobalt\", \"bmw\", \"audi\", \"aston martin\", \"porsche\"]\n",
    "CHECKERLIST.pop()\n",
    "print(CHECKERLIST)\n",
    "\n",
    "CHECKERLIST.append(\"porsche\")\n",
    "print(CHECKERLIST)\n",
    "\n",
    "CHECKERLIST.pop(-1)\n",
    "print(CHECKERLIST)"
   ]
  },
  {
   "cell_type": "code",
   "execution_count": 3,
   "metadata": {},
   "outputs": [
    {
     "name": "stdout",
     "output_type": "stream",
     "text": [
      "['apple', 'cherry']\n",
      "['banana', 'apple', 'cherry', 'coconut', 'banana']\n",
      "['apple', 'cherry', 'coconut', 'banana']\n",
      "['apple', 'coconut', 'banana']\n",
      "['apple', 'coconut', 'CHECK', 'banana']\n",
      "['apple', 'coconut', 'CHECK']\n",
      "['cobalt', 'bmw', 'audi', 'aston martin']\n",
      "['cobalt', 'bmw', 'audi', 'aston martin', 'porsche']\n",
      "['cobalt', 'bmw', 'audi', 'aston martin']\n",
      "['bmw', 'audi', 'aston martin']\n",
      "[]\n"
     ]
    }
   ],
   "source": [
    "ohyesmynewlist = [\"apple\", \"banana\", \"cherry\"]\n",
    "ohyesmynewlist.remove(\"banana\")\n",
    "print(ohyesmynewlist)\n",
    "\n",
    "ohyesmynewlist.append(\"coconut\")\n",
    "ohyesmynewlist.insert(0,\"banana\")\n",
    "ohyesmynewlist.append(\"banana\")\n",
    "print(ohyesmynewlist)\n",
    "\n",
    "ohyesmynewlist.remove(\"banana\")\n",
    "print(ohyesmynewlist)\n",
    "\n",
    "ohyesmynewlist.pop(1)\n",
    "print(ohyesmynewlist)\n",
    "\n",
    "\n",
    "\n",
    "### now check this \n",
    "### inserted before our last element (-1) aka \"banana\" \n",
    "### or this new element is our new pre-last element\n",
    "### but when we pop in index (-1) we pop not a CHECK\n",
    "### we pop our last element \"banana\"\n",
    "\n",
    "ohyesmynewlist.insert(-1, \"CHECK\")\n",
    "print(ohyesmynewlist)\n",
    "\n",
    "ohyesmynewlist.pop(-1)\n",
    "print(ohyesmynewlist)\n",
    "\n",
    "CHECKERLIST = [\"cobalt\", \"bmw\", \"audi\", \"aston martin\", \"porsche\"]\n",
    "CHECKERLIST.pop()\n",
    "print(CHECKERLIST)\n",
    "\n",
    "CHECKERLIST.append(\"porsche\")\n",
    "print(CHECKERLIST)\n",
    "\n",
    "CHECKERLIST.pop(-1)\n",
    "print(CHECKERLIST)\n",
    "\n",
    "### there we can see that pop(-1) and pop() \n",
    "# are equal and both of them removes the last\n",
    "# element\n",
    "\n",
    "del CHECKERLIST[0]\n",
    "print(CHECKERLIST)\n",
    "\n",
    "del CHECKERLIST\n",
    "# print(CHECKERLIST) <----- shows error\n",
    "\n",
    "#the result of this execution shows that\n",
    "#  del CHECKERLIST really deleted it and \n",
    "#  there are error \n",
    "\n",
    "SONEWCHECKER = [\"toyota\", \"lexus\", \"kia\", \"honda\"]\n",
    "SONEWCHECKER.clear()\n",
    "print(SONEWCHECKER)\n"
   ]
  },
  {
   "cell_type": "code",
   "execution_count": 4,
   "metadata": {},
   "outputs": [
    {
     "name": "stdout",
     "output_type": "stream",
     "text": [
      "apple\n",
      "banana\n",
      "cherry\n",
      "apple\n",
      "banana\n",
      "cherry\n",
      "apple\n",
      "banana\n",
      "cherry\n",
      "apple\n",
      "banana\n",
      "cherry\n"
     ]
    },
    {
     "data": {
      "text/plain": [
       "[None, None, None]"
      ]
     },
     "execution_count": 4,
     "metadata": {},
     "output_type": "execute_result"
    }
   ],
   "source": [
    "#   NOOOOOOOOOOWWWWWWWWW ABOOOOOOUUUUUTTTTT LOOOOPS\n",
    "#   IIIIIIIIIIIIIIINNNN  LIIIIISSSTTTTTSSSSSSSS\n",
    "\n",
    "thislistie = [\"apple\", \"banana\", \"cherry\"]\n",
    "for x in thislistie:\n",
    "    print(x)\n",
    "\n",
    "#   btw without scopes and quotes\n",
    "\n",
    "for i in range(len(thislistie)):\n",
    "    print(thislistie[i])\n",
    "\n",
    "i = 0\n",
    "while i < len(thislistie):\n",
    "    print(thislistie[i])\n",
    "    i = i + 1\n",
    "\n",
    "[print(x) for x in thislistie]\n",
    "\n"
   ]
  },
  {
   "cell_type": "code",
   "execution_count": 5,
   "metadata": {},
   "outputs": [
    {
     "name": "stdout",
     "output_type": "stream",
     "text": [
      "['apple', 'banana', 'mango']\n",
      "['apple', 'banana', 'mango']\n",
      "[0, 1, 2, 3, 4, 5, 6, 7, 8, 9, 10]\n",
      "[1, 3, 5, 7, 9]\n",
      "[0, 2, 4, 6, 8, 10]\n",
      "['apple', 'banana', 'cherry', 'kiwi', 'mango']\n",
      "[0, 1, 2, 3, 4]\n",
      "['APPLE', 'BANANA', 'CHERRY', 'KIWI', 'MANGO']\n",
      "['jellyfish', 'jellyfish', 'jellyfish', 'jellyfish', 'jellyfish']\n",
      "['apple', 'orange', 'cherry', 'kiwi', 'mango']\n",
      "['missed chance', 'missed chance', 'missed chance', 'missed chance', 'missed chance', 'solo leveling']\n",
      "['solo leveling']\n"
     ]
    }
   ],
   "source": [
    "fruits = [\"apple\", \"banana\", \"cherry\", \"kiwi\", \"mango\"]\n",
    "newlist = []\n",
    "\n",
    "for x in fruits:\n",
    "    if \"a\" in x:\n",
    "        newlist.append(x)\n",
    "\n",
    "print(newlist)\n",
    "\n",
    "NEWlist = [x for x in fruits if \"a\" in x]\n",
    "\n",
    "print(NEWlist)\n",
    "\n",
    "numberslist = [x for x in range(11)]\n",
    "print(numberslist)\n",
    "\n",
    "oddnumberslist = [x for x in numberslist if x%2==1]\n",
    "print(oddnumberslist)\n",
    "\n",
    "evennumberslist = [x for x in numberslist if x%2==0]\n",
    "print(evennumberslist)\n",
    "\n",
    "fruits = [\"apple\", \"banana\", \"cherry\", \"kiwi\", \"mango\"]\n",
    "newlist = [x for x in fruits]\n",
    "print(newlist)\n",
    "\n",
    "newlist = [x for x in range(10) if x < 5]\n",
    "print(newlist)\n",
    "\n",
    "\n",
    "newlist = [x.upper() for x in fruits]\n",
    "print(newlist)\n",
    "\n",
    "newlist = ['jellyfish' for x in fruits]\n",
    "print(newlist)\n",
    "\n",
    "newlist = [x if x != \"banana\" else \"orange\" for x in fruits]\n",
    "print(newlist)\n",
    "\n",
    "animelist = [\"tokyo ghoul\", \"attack on titan\", \"re:zero\", \"cowboy bebop\", \"one piece\", \"solo leveling\"]\n",
    "myfavourite = [x if x == \"solo leveling\" else \"missed chance\" for x in animelist]\n",
    "print(myfavourite)\n",
    "\n",
    "myfavourite = [x for x in animelist if x == \"solo leveling\"]\n",
    "print(myfavourite)"
   ]
  }
 ],
 "metadata": {
  "kernelspec": {
   "display_name": "Python 3",
   "language": "python",
   "name": "python3"
  },
  "language_info": {
   "codemirror_mode": {
    "name": "ipython",
    "version": 3
   },
   "file_extension": ".py",
   "mimetype": "text/x-python",
   "name": "python",
   "nbconvert_exporter": "python",
   "pygments_lexer": "ipython3",
   "version": "3.12.8"
  }
 },
 "nbformat": 4,
 "nbformat_minor": 2
}
