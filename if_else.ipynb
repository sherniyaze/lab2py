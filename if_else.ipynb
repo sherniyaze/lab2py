{
 "cells": [
  {
   "cell_type": "code",
   "execution_count": 6,
   "metadata": {},
   "outputs": [
    {
     "name": "stdout",
     "output_type": "stream",
     "text": [
      "No, b is greater than a\n",
      "a is greater than b\n",
      "B\n",
      "B\n",
      "both of conditions is true\n",
      "At least one of conditions is true\n",
      "a is NOT greater than b\n",
      "a is less than b\n",
      "above ten,\n",
      "and also above 20!\n"
     ]
    }
   ],
   "source": [
    "a = 200\n",
    "b = 301\n",
    "if a > b:\n",
    "    print(\"Yes, a is greater than a\")\n",
    "elif a == b:\n",
    "    print(\"a and b are equal\")\n",
    "else:\n",
    "    print(\"No, b is greater than a\")\n",
    "if a < b: print(\"a is greater than b\")\n",
    "print(\"A\") if a > b else print(\"B\")\n",
    "print(\"A\") if a > b else print(\"=\") if a == b else print(\"B\")\n",
    "a = 1\n",
    "b = 3\n",
    "c = 5\n",
    "if b > a and c > b:\n",
    "    print(\"both of conditions is true\")\n",
    "if a > b or a < b:\n",
    "    print(\"At least one of conditions is true\")\n",
    "if not a > b:\n",
    "    print(\"a is NOT greater than b\")\n",
    "if a < b:\n",
    "    print(\"a is less than b\")\n",
    "x = 41\n",
    "if x > 10:\n",
    "    print(\"above ten,\")\n",
    "    if x > 20:\n",
    "        print(\"and also above 20!\")\n",
    "    else: \n",
    "        print(\"but not above 20.\")\n",
    "a = 100\n",
    "b = 200\n",
    "if b > a:\n",
    "    pass\n",
    "\n"
   ]
  }
 ],
 "metadata": {
  "kernelspec": {
   "display_name": "Python 3",
   "language": "python",
   "name": "python3"
  },
  "language_info": {
   "codemirror_mode": {
    "name": "ipython",
    "version": 3
   },
   "file_extension": ".py",
   "mimetype": "text/x-python",
   "name": "python",
   "nbconvert_exporter": "python",
   "pygments_lexer": "ipython3",
   "version": "3.12.8"
  }
 },
 "nbformat": 4,
 "nbformat_minor": 2
}
